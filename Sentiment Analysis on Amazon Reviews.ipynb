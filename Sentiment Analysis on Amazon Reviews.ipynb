{
 "cells": [
  {
   "cell_type": "code",
   "execution_count": 10,
   "id": "c4781d0d",
   "metadata": {},
   "outputs": [],
   "source": [
    "import pandas as pd\n",
    "import numpy as np\n",
    "import bz2"
   ]
  },
  {
   "cell_type": "code",
   "execution_count": 30,
   "id": "1ebe8f1c",
   "metadata": {},
   "outputs": [],
   "source": [
    "#creating a function to load the text and labels from train and test set"
   ]
  },
  {
   "cell_type": "code",
   "execution_count": 12,
   "id": "71a3d299",
   "metadata": {},
   "outputs": [],
   "source": [
    "def get_labels_and_texts(file):\n",
    "    labels = []\n",
    "    texts = []\n",
    "    for line in bz2.BZ2File(file):\n",
    "        x = line.decode(\"utf-8\")\n",
    "        labels.append(int(x[9])-1)\n",
    "        texts.append(x[10:].strip())\n",
    "    return np.array(labels),texts\n",
    "train_labels, train_texts = get_labels_and_texts('train.ft.txt.bz2')\n",
    "test_labels, test_texts = get_labels_and_texts('test.ft.txt.bz2')"
   ]
  },
  {
   "cell_type": "code",
   "execution_count": 13,
   "id": "8cd32072",
   "metadata": {},
   "outputs": [
    {
     "data": {
      "text/plain": [
       "1"
      ]
     },
     "execution_count": 13,
     "metadata": {},
     "output_type": "execute_result"
    }
   ],
   "source": [
    "train_labels[0]"
   ]
  },
  {
   "cell_type": "code",
   "execution_count": 14,
   "id": "f1343ef5",
   "metadata": {},
   "outputs": [
    {
     "data": {
      "text/plain": [
       "'Stuning even for the non-gamer: This sound track was beautiful! It paints the senery in your mind so well I would recomend it even to people who hate vid. game music! I have played the game Chrono Cross but out of all of the games I have ever played it has the best music! It backs away from crude keyboarding and takes a fresher step with grate guitars and soulful orchestras. It would impress anyone who cares to listen! ^_^'"
      ]
     },
     "execution_count": 14,
     "metadata": {},
     "output_type": "execute_result"
    }
   ],
   "source": [
    "train_texts[0]"
   ]
  },
  {
   "cell_type": "code",
   "execution_count": 15,
   "id": "81ed1708",
   "metadata": {},
   "outputs": [],
   "source": [
    "train_labels = train_labels[0:500]"
   ]
  },
  {
   "cell_type": "code",
   "execution_count": 16,
   "id": "fae778fc",
   "metadata": {},
   "outputs": [],
   "source": [
    "train_texts = train_texts[0:500]"
   ]
  },
  {
   "cell_type": "code",
   "execution_count": 39,
   "id": "1ad69d08",
   "metadata": {},
   "outputs": [],
   "source": [
    "#text pre-processing"
   ]
  },
  {
   "cell_type": "code",
   "execution_count": 17,
   "id": "d15588a7",
   "metadata": {},
   "outputs": [],
   "source": [
    "import re\n",
    "NON_ALPHANUM = re.compile(r'[\\W]')\n",
    "NON_ASCII = re.compile(r'[^a-z0-1\\s]')\n",
    "def normalize_texts(texts):\n",
    "    normalize_texts = []\n",
    "    for text in texts:\n",
    "        lower = text.lower()\n",
    "        no_punctuation  = NON_ALPHANUM.sub(r'',lower)\n",
    "        no_non_ascii = NON_ASCII.sub(r'',lower)\n",
    "        normalize_texts.append(no_non_ascii)\n",
    "    return normalize_texts\n",
    "\n",
    "train_texts = normalize_texts(train_texts)\n",
    "test_texts  = normalize_texts(test_texts)"
   ]
  },
  {
   "cell_type": "code",
   "execution_count": 18,
   "id": "9b9fcb8c",
   "metadata": {},
   "outputs": [
    {
     "data": {
      "text/plain": [
       "'stuning even for the nongamer this sound track was beautiful it paints the senery in your mind so well i would recomend it even to people who hate vid game music i have played the game chrono cross but out of all of the games i have ever played it has the best music it backs away from crude keyboarding and takes a fresher step with grate guitars and soulful orchestras it would impress anyone who cares to listen '"
      ]
     },
     "execution_count": 18,
     "metadata": {},
     "output_type": "execute_result"
    }
   ],
   "source": [
    "train_texts[0]"
   ]
  },
  {
   "cell_type": "code",
   "execution_count": 19,
   "id": "b32f670b",
   "metadata": {},
   "outputs": [],
   "source": [
    "#countvectorizer"
   ]
  },
  {
   "cell_type": "code",
   "execution_count": 22,
   "id": "9b946ac2",
   "metadata": {},
   "outputs": [],
   "source": [
    "from sklearn.feature_extraction.text import CountVectorizer\n",
    "\n",
    "cv = CountVectorizer(binary=True)\n",
    "cv.fit(train_texts)\n",
    "X = cv.transform(train_texts)\n",
    "X_test = cv.transform(test_texts)"
   ]
  },
  {
   "cell_type": "code",
   "execution_count": 24,
   "id": "9060f0c9",
   "metadata": {},
   "outputs": [
    {
     "data": {
      "text/plain": [
       "<400000x6217 sparse matrix of type '<class 'numpy.int64'>'\n",
       "\twith 18277251 stored elements in Compressed Sparse Row format>"
      ]
     },
     "execution_count": 24,
     "metadata": {},
     "output_type": "execute_result"
    }
   ],
   "source": [
    "X_test"
   ]
  },
  {
   "cell_type": "code",
   "execution_count": 27,
   "id": "f2004e98",
   "metadata": {},
   "outputs": [
    {
     "name": "stdout",
     "output_type": "stream",
     "text": [
      "Accuracy for C=0.01: 0.744\n",
      "Accuracy for C=0.05: 0.752\n",
      "Accuracy for C=0.25: 0.776\n",
      "Accuracy for C=0.5: 0.776\n",
      "Accuracy for C=1: 0.776\n"
     ]
    }
   ],
   "source": [
    "from sklearn.linear_model import LogisticRegression\n",
    "from sklearn.metrics import accuracy_score\n",
    "from sklearn.model_selection import train_test_split\n",
    "\n",
    "X_train, X_val, y_train, y_val = train_test_split(\n",
    "    X, train_labels,train_size = 0.75\n",
    ")\n",
    "\n",
    "for c in [0.01, 0.05, 0.25, 0.5, 1]:\n",
    "    \n",
    "    lr = LogisticRegression(C=c)\n",
    "    lr.fit(X_train, y_train)\n",
    "    print(\"Accuracy for C=%s: %s\"\n",
    "         %(c,accuracy_score(y_val,lr.predict(X_val))))"
   ]
  },
  {
   "cell_type": "code",
   "execution_count": 29,
   "id": "ae676c46",
   "metadata": {},
   "outputs": [
    {
     "data": {
      "text/plain": [
       "array([0])"
      ]
     },
     "execution_count": 29,
     "metadata": {},
     "output_type": "execute_result"
    }
   ],
   "source": [
    "lr.predict(X_test[29])"
   ]
  },
  {
   "cell_type": "code",
   "execution_count": 31,
   "id": "07bca74e",
   "metadata": {},
   "outputs": [
    {
     "data": {
      "text/plain": [
       "0"
      ]
     },
     "execution_count": 31,
     "metadata": {},
     "output_type": "execute_result"
    }
   ],
   "source": [
    "test_labels[29]"
   ]
  },
  {
   "cell_type": "code",
   "execution_count": 33,
   "id": "1115b5a8",
   "metadata": {},
   "outputs": [
    {
     "data": {
      "text/plain": [
       "'three days of use and it broke very disappointed in this product it worked perfectly for exactly three days and could not be resuscitated it was very inexpensive so i did not want to pay half again the price to ship it back for an exchange so the company would do nothing when they sent me an inquiry as to product satisfaction'"
      ]
     },
     "execution_count": 33,
     "metadata": {},
     "output_type": "execute_result"
    }
   ],
   "source": [
    "test_texts[29]"
   ]
  },
  {
   "cell_type": "code",
   "execution_count": 39,
   "id": "df0c4aa9",
   "metadata": {},
   "outputs": [
    {
     "data": {
      "text/plain": [
       "'painful this book has to be one of the most tedious works of literature ever written hawthorne is a great writer but i dont know how this book made it into that sacred list we call classics perhaps on the merit of his name alone'"
      ]
     },
     "execution_count": 39,
     "metadata": {},
     "output_type": "execute_result"
    }
   ],
   "source": [
    "test_texts[90]"
   ]
  },
  {
   "cell_type": "code",
   "execution_count": 41,
   "id": "a3519f21",
   "metadata": {},
   "outputs": [
    {
     "data": {
      "text/plain": [
       "array([1])"
      ]
     },
     "execution_count": 41,
     "metadata": {},
     "output_type": "execute_result"
    }
   ],
   "source": [
    "lr.predict(X_test[90])"
   ]
  }
 ],
 "metadata": {
  "kernelspec": {
   "display_name": "Python 3 (ipykernel)",
   "language": "python",
   "name": "python3"
  },
  "language_info": {
   "codemirror_mode": {
    "name": "ipython",
    "version": 3
   },
   "file_extension": ".py",
   "mimetype": "text/x-python",
   "name": "python",
   "nbconvert_exporter": "python",
   "pygments_lexer": "ipython3",
   "version": "3.9.9"
  }
 },
 "nbformat": 4,
 "nbformat_minor": 5
}
